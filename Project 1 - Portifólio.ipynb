{
 "cells": [
  {
   "cell_type": "markdown",
   "id": "86eac82b",
   "metadata": {},
   "source": [
    "# Supermarket Hunter's"
   ]
  },
  {
   "cell_type": "markdown",
   "id": "8ef813bf",
   "metadata": {},
   "source": [
    "This dataset represents Supermarket consumer behaviour with 2.019.501 rows e 12 columns:\n",
    "\n",
    "* order_id - A unique number to identity the order\n",
    "* user_id - A unique number to identify the user\n",
    "* order_number - Number of the order\n",
    "* order_dow - Day of the Week the order was made\n",
    "* order_hour_of_day - Time of the order\n",
    "* days_since_prior_order - History of the order\n",
    "* product_id - Id of the product\n",
    "* add_to_cart_order - Number of items added to cart\n",
    "* reordered - If the reorder took place\n",
    "* department_id - Unique number allocated to each department\n",
    "* department - Names of the departments\n",
    "* product_name - Name of the products"
   ]
  },
  {
   "cell_type": "markdown",
   "id": "2aaee7c7",
   "metadata": {},
   "source": [
    "With this data we were able to answer the following questions:\n",
    "\n",
    "* What are the days of the week that have the most orders?\n",
    "* What's the highest peak time?\n",
    "* Which department have most requests?\n",
    "* Which products are best selling?\n",
    "* What is the average of products per order?\n",
    "* What is the percentage of users who have re-purchased?\n",
    "* What is the percentage of users who have not repurchased?\n",
    "* Which is the most frequent user?"
   ]
  },
  {
   "cell_type": "code",
   "execution_count": 1,
   "id": "8f0c5031",
   "metadata": {},
   "outputs": [],
   "source": [
    "#Importando as bibliotecas que serão utilizadas\n",
    "import pandas as pd\n",
    "import numpy as np\n",
    "import matplotlib.pyplot as plt\n",
    "import plotly.express as px\n",
    "import plotly as pl\n",
    "import seaborn as sns"
   ]
  },
  {
   "cell_type": "code",
   "execution_count": 2,
   "id": "088a6c32",
   "metadata": {},
   "outputs": [
    {
     "data": {
      "text/html": [
       "<div>\n",
       "<style scoped>\n",
       "    .dataframe tbody tr th:only-of-type {\n",
       "        vertical-align: middle;\n",
       "    }\n",
       "\n",
       "    .dataframe tbody tr th {\n",
       "        vertical-align: top;\n",
       "    }\n",
       "\n",
       "    .dataframe thead th {\n",
       "        text-align: right;\n",
       "    }\n",
       "</style>\n",
       "<table border=\"1\" class=\"dataframe\">\n",
       "  <thead>\n",
       "    <tr style=\"text-align: right;\">\n",
       "      <th></th>\n",
       "      <th>order_id</th>\n",
       "      <th>user_id</th>\n",
       "      <th>order_number</th>\n",
       "      <th>order_dow</th>\n",
       "      <th>order_hour_of_day</th>\n",
       "      <th>days_since_prior_order</th>\n",
       "      <th>product_id</th>\n",
       "      <th>add_to_cart_order</th>\n",
       "      <th>reordered</th>\n",
       "      <th>department_id</th>\n",
       "      <th>department</th>\n",
       "      <th>product_name</th>\n",
       "    </tr>\n",
       "  </thead>\n",
       "  <tbody>\n",
       "    <tr>\n",
       "      <th>0</th>\n",
       "      <td>2425083</td>\n",
       "      <td>49125</td>\n",
       "      <td>1</td>\n",
       "      <td>2</td>\n",
       "      <td>18</td>\n",
       "      <td>NaN</td>\n",
       "      <td>17</td>\n",
       "      <td>1</td>\n",
       "      <td>0</td>\n",
       "      <td>13</td>\n",
       "      <td>pantry</td>\n",
       "      <td>baking ingredients</td>\n",
       "    </tr>\n",
       "    <tr>\n",
       "      <th>1</th>\n",
       "      <td>2425083</td>\n",
       "      <td>49125</td>\n",
       "      <td>1</td>\n",
       "      <td>2</td>\n",
       "      <td>18</td>\n",
       "      <td>NaN</td>\n",
       "      <td>91</td>\n",
       "      <td>2</td>\n",
       "      <td>0</td>\n",
       "      <td>16</td>\n",
       "      <td>dairy eggs</td>\n",
       "      <td>soy lactosefree</td>\n",
       "    </tr>\n",
       "    <tr>\n",
       "      <th>2</th>\n",
       "      <td>2425083</td>\n",
       "      <td>49125</td>\n",
       "      <td>1</td>\n",
       "      <td>2</td>\n",
       "      <td>18</td>\n",
       "      <td>NaN</td>\n",
       "      <td>36</td>\n",
       "      <td>3</td>\n",
       "      <td>0</td>\n",
       "      <td>16</td>\n",
       "      <td>dairy eggs</td>\n",
       "      <td>butter</td>\n",
       "    </tr>\n",
       "    <tr>\n",
       "      <th>3</th>\n",
       "      <td>2425083</td>\n",
       "      <td>49125</td>\n",
       "      <td>1</td>\n",
       "      <td>2</td>\n",
       "      <td>18</td>\n",
       "      <td>NaN</td>\n",
       "      <td>83</td>\n",
       "      <td>4</td>\n",
       "      <td>0</td>\n",
       "      <td>4</td>\n",
       "      <td>produce</td>\n",
       "      <td>fresh vegetables</td>\n",
       "    </tr>\n",
       "    <tr>\n",
       "      <th>4</th>\n",
       "      <td>2425083</td>\n",
       "      <td>49125</td>\n",
       "      <td>1</td>\n",
       "      <td>2</td>\n",
       "      <td>18</td>\n",
       "      <td>NaN</td>\n",
       "      <td>83</td>\n",
       "      <td>5</td>\n",
       "      <td>0</td>\n",
       "      <td>4</td>\n",
       "      <td>produce</td>\n",
       "      <td>fresh vegetables</td>\n",
       "    </tr>\n",
       "  </tbody>\n",
       "</table>\n",
       "</div>"
      ],
      "text/plain": [
       "   order_id  user_id  order_number  order_dow  order_hour_of_day  \\\n",
       "0   2425083    49125             1          2                 18   \n",
       "1   2425083    49125             1          2                 18   \n",
       "2   2425083    49125             1          2                 18   \n",
       "3   2425083    49125             1          2                 18   \n",
       "4   2425083    49125             1          2                 18   \n",
       "\n",
       "   days_since_prior_order  product_id  add_to_cart_order  reordered  \\\n",
       "0                     NaN          17                  1          0   \n",
       "1                     NaN          91                  2          0   \n",
       "2                     NaN          36                  3          0   \n",
       "3                     NaN          83                  4          0   \n",
       "4                     NaN          83                  5          0   \n",
       "\n",
       "   department_id  department        product_name  \n",
       "0             13      pantry  baking ingredients  \n",
       "1             16  dairy eggs     soy lactosefree  \n",
       "2             16  dairy eggs              butter  \n",
       "3              4     produce    fresh vegetables  \n",
       "4              4     produce    fresh vegetables  "
      ]
     },
     "execution_count": 2,
     "metadata": {},
     "output_type": "execute_result"
    }
   ],
   "source": [
    "#Carregamento do arquivo e visualização básica\n",
    "dados = pd.read_csv(\"C:\\\\Users\\\\fepra\\\\Downloads\\\\ECommerce_consumer behaviour.csv\", encoding=\"utf-8\")\n",
    "dados.head(5)"
   ]
  },
  {
   "cell_type": "markdown",
   "id": "ef31251a",
   "metadata": {},
   "source": [
    "## Data processing"
   ]
  },
  {
   "cell_type": "code",
   "execution_count": 3,
   "id": "637f80fe",
   "metadata": {},
   "outputs": [
    {
     "name": "stdout",
     "output_type": "stream",
     "text": [
      "<class 'pandas.core.frame.DataFrame'>\n",
      "RangeIndex: 2019501 entries, 0 to 2019500\n",
      "Data columns (total 12 columns):\n",
      " #   Column                  Dtype  \n",
      "---  ------                  -----  \n",
      " 0   order_id                int64  \n",
      " 1   user_id                 int64  \n",
      " 2   order_number            int64  \n",
      " 3   order_dow               int64  \n",
      " 4   order_hour_of_day       int64  \n",
      " 5   days_since_prior_order  float64\n",
      " 6   product_id              int64  \n",
      " 7   add_to_cart_order       int64  \n",
      " 8   reordered               int64  \n",
      " 9   department_id           int64  \n",
      " 10  department              object \n",
      " 11  product_name            object \n",
      "dtypes: float64(1), int64(9), object(2)\n",
      "memory usage: 184.9+ MB\n"
     ]
    }
   ],
   "source": [
    "dados.info()"
   ]
  },
  {
   "cell_type": "code",
   "execution_count": 4,
   "id": "03484da9",
   "metadata": {},
   "outputs": [
    {
     "data": {
      "text/plain": [
       "order_id                       0\n",
       "user_id                        0\n",
       "order_number                   0\n",
       "order_dow                      0\n",
       "order_hour_of_day              0\n",
       "days_since_prior_order    124342\n",
       "product_id                     0\n",
       "add_to_cart_order              0\n",
       "reordered                      0\n",
       "department_id                  0\n",
       "department                     0\n",
       "product_name                   0\n",
       "dtype: int64"
      ]
     },
     "execution_count": 4,
     "metadata": {},
     "output_type": "execute_result"
    }
   ],
   "source": [
    "dados.isnull().sum()"
   ]
  },
  {
   "cell_type": "code",
   "execution_count": 5,
   "id": "57fc4c33",
   "metadata": {},
   "outputs": [
    {
     "data": {
      "text/plain": [
       "6.157065532525114"
      ]
     },
     "execution_count": 5,
     "metadata": {},
     "output_type": "execute_result"
    }
   ],
   "source": [
    "(dados['days_since_prior_order'].isnull().sum() / dados.shape[0]) * 100"
   ]
  },
  {
   "cell_type": "code",
   "execution_count": 6,
   "id": "38f46a23",
   "metadata": {},
   "outputs": [
    {
     "name": "stdout",
     "output_type": "stream",
     "text": [
      "6.157065532525114 % dos dados da coluna days_since_prior_order são nulos\n"
     ]
    }
   ],
   "source": [
    "print ((dados['days_since_prior_order'].isnull().sum() / dados.shape[0]) * 100, '% dos dados da coluna days_since_prior_order são nulos')"
   ]
  },
  {
   "cell_type": "code",
   "execution_count": 7,
   "id": "0838a948",
   "metadata": {},
   "outputs": [
    {
     "data": {
      "text/plain": [
       "order_id                  0\n",
       "user_id                   0\n",
       "order_number              0\n",
       "order_dow                 0\n",
       "order_hour_of_day         0\n",
       "days_since_prior_order    0\n",
       "product_id                0\n",
       "add_to_cart_order         0\n",
       "reordered                 0\n",
       "department_id             0\n",
       "department                0\n",
       "product_name              0\n",
       "dtype: int64"
      ]
     },
     "execution_count": 7,
     "metadata": {},
     "output_type": "execute_result"
    }
   ],
   "source": [
    "#Substituição dos dados faltantes pela mediana\n",
    "days_since_prior_order_median = dados.days_since_prior_order.median()\n",
    "\n",
    "dados.fillna(days_since_prior_order_median, inplace = True)\n",
    "\n",
    "dados.isnull().sum()"
   ]
  },
  {
   "cell_type": "code",
   "execution_count": 32,
   "id": "bcc3c1af",
   "metadata": {},
   "outputs": [
    {
     "data": {
      "text/html": [
       "<div>\n",
       "<style scoped>\n",
       "    .dataframe tbody tr th:only-of-type {\n",
       "        vertical-align: middle;\n",
       "    }\n",
       "\n",
       "    .dataframe tbody tr th {\n",
       "        vertical-align: top;\n",
       "    }\n",
       "\n",
       "    .dataframe thead th {\n",
       "        text-align: right;\n",
       "    }\n",
       "</style>\n",
       "<table border=\"1\" class=\"dataframe\">\n",
       "  <thead>\n",
       "    <tr style=\"text-align: right;\">\n",
       "      <th></th>\n",
       "      <th>order_id</th>\n",
       "      <th>user_id</th>\n",
       "      <th>order_number</th>\n",
       "      <th>order_dow</th>\n",
       "      <th>order_hour_of_day</th>\n",
       "      <th>days_since_prior_order</th>\n",
       "      <th>product_id</th>\n",
       "      <th>add_to_cart_order</th>\n",
       "      <th>reordered</th>\n",
       "      <th>department_id</th>\n",
       "    </tr>\n",
       "  </thead>\n",
       "  <tbody>\n",
       "    <tr>\n",
       "      <th>count</th>\n",
       "      <td>2.019501e+06</td>\n",
       "      <td>2.019501e+06</td>\n",
       "      <td>2.019501e+06</td>\n",
       "      <td>2.019501e+06</td>\n",
       "      <td>2.019501e+06</td>\n",
       "      <td>2.019501e+06</td>\n",
       "      <td>2.019501e+06</td>\n",
       "      <td>2.019501e+06</td>\n",
       "      <td>2.019501e+06</td>\n",
       "      <td>2.019501e+06</td>\n",
       "    </tr>\n",
       "    <tr>\n",
       "      <th>mean</th>\n",
       "      <td>1.707013e+06</td>\n",
       "      <td>1.030673e+05</td>\n",
       "      <td>1.715138e+01</td>\n",
       "      <td>2.735367e+00</td>\n",
       "      <td>1.343948e+01</td>\n",
       "      <td>1.117755e+01</td>\n",
       "      <td>7.120590e+01</td>\n",
       "      <td>8.363173e+00</td>\n",
       "      <td>5.897427e-01</td>\n",
       "      <td>9.928349e+00</td>\n",
       "    </tr>\n",
       "    <tr>\n",
       "      <th>std</th>\n",
       "      <td>9.859832e+05</td>\n",
       "      <td>5.949117e+04</td>\n",
       "      <td>1.752576e+01</td>\n",
       "      <td>2.093882e+00</td>\n",
       "      <td>4.241008e+00</td>\n",
       "      <td>8.728449e+00</td>\n",
       "      <td>3.820727e+01</td>\n",
       "      <td>7.150059e+00</td>\n",
       "      <td>4.918804e-01</td>\n",
       "      <td>6.282933e+00</td>\n",
       "    </tr>\n",
       "    <tr>\n",
       "      <th>min</th>\n",
       "      <td>1.000000e+01</td>\n",
       "      <td>2.000000e+00</td>\n",
       "      <td>1.000000e+00</td>\n",
       "      <td>0.000000e+00</td>\n",
       "      <td>0.000000e+00</td>\n",
       "      <td>0.000000e+00</td>\n",
       "      <td>1.000000e+00</td>\n",
       "      <td>1.000000e+00</td>\n",
       "      <td>0.000000e+00</td>\n",
       "      <td>1.000000e+00</td>\n",
       "    </tr>\n",
       "    <tr>\n",
       "      <th>25%</th>\n",
       "      <td>8.526490e+05</td>\n",
       "      <td>5.158400e+04</td>\n",
       "      <td>5.000000e+00</td>\n",
       "      <td>1.000000e+00</td>\n",
       "      <td>1.000000e+01</td>\n",
       "      <td>5.000000e+00</td>\n",
       "      <td>3.100000e+01</td>\n",
       "      <td>3.000000e+00</td>\n",
       "      <td>0.000000e+00</td>\n",
       "      <td>4.000000e+00</td>\n",
       "    </tr>\n",
       "    <tr>\n",
       "      <th>50%</th>\n",
       "      <td>1.705004e+06</td>\n",
       "      <td>1.026900e+05</td>\n",
       "      <td>1.100000e+01</td>\n",
       "      <td>3.000000e+00</td>\n",
       "      <td>1.300000e+01</td>\n",
       "      <td>8.000000e+00</td>\n",
       "      <td>8.300000e+01</td>\n",
       "      <td>6.000000e+00</td>\n",
       "      <td>1.000000e+00</td>\n",
       "      <td>9.000000e+00</td>\n",
       "    </tr>\n",
       "    <tr>\n",
       "      <th>75%</th>\n",
       "      <td>2.559031e+06</td>\n",
       "      <td>1.546000e+05</td>\n",
       "      <td>2.400000e+01</td>\n",
       "      <td>5.000000e+00</td>\n",
       "      <td>1.600000e+01</td>\n",
       "      <td>1.500000e+01</td>\n",
       "      <td>1.070000e+02</td>\n",
       "      <td>1.100000e+01</td>\n",
       "      <td>1.000000e+00</td>\n",
       "      <td>1.600000e+01</td>\n",
       "    </tr>\n",
       "    <tr>\n",
       "      <th>max</th>\n",
       "      <td>3.421080e+06</td>\n",
       "      <td>2.062090e+05</td>\n",
       "      <td>1.000000e+02</td>\n",
       "      <td>6.000000e+00</td>\n",
       "      <td>2.300000e+01</td>\n",
       "      <td>3.000000e+01</td>\n",
       "      <td>1.340000e+02</td>\n",
       "      <td>1.370000e+02</td>\n",
       "      <td>1.000000e+00</td>\n",
       "      <td>2.100000e+01</td>\n",
       "    </tr>\n",
       "  </tbody>\n",
       "</table>\n",
       "</div>"
      ],
      "text/plain": [
       "           order_id       user_id  order_number     order_dow  \\\n",
       "count  2.019501e+06  2.019501e+06  2.019501e+06  2.019501e+06   \n",
       "mean   1.707013e+06  1.030673e+05  1.715138e+01  2.735367e+00   \n",
       "std    9.859832e+05  5.949117e+04  1.752576e+01  2.093882e+00   \n",
       "min    1.000000e+01  2.000000e+00  1.000000e+00  0.000000e+00   \n",
       "25%    8.526490e+05  5.158400e+04  5.000000e+00  1.000000e+00   \n",
       "50%    1.705004e+06  1.026900e+05  1.100000e+01  3.000000e+00   \n",
       "75%    2.559031e+06  1.546000e+05  2.400000e+01  5.000000e+00   \n",
       "max    3.421080e+06  2.062090e+05  1.000000e+02  6.000000e+00   \n",
       "\n",
       "       order_hour_of_day  days_since_prior_order    product_id  \\\n",
       "count       2.019501e+06            2.019501e+06  2.019501e+06   \n",
       "mean        1.343948e+01            1.117755e+01  7.120590e+01   \n",
       "std         4.241008e+00            8.728449e+00  3.820727e+01   \n",
       "min         0.000000e+00            0.000000e+00  1.000000e+00   \n",
       "25%         1.000000e+01            5.000000e+00  3.100000e+01   \n",
       "50%         1.300000e+01            8.000000e+00  8.300000e+01   \n",
       "75%         1.600000e+01            1.500000e+01  1.070000e+02   \n",
       "max         2.300000e+01            3.000000e+01  1.340000e+02   \n",
       "\n",
       "       add_to_cart_order     reordered  department_id  \n",
       "count       2.019501e+06  2.019501e+06   2.019501e+06  \n",
       "mean        8.363173e+00  5.897427e-01   9.928349e+00  \n",
       "std         7.150059e+00  4.918804e-01   6.282933e+00  \n",
       "min         1.000000e+00  0.000000e+00   1.000000e+00  \n",
       "25%         3.000000e+00  0.000000e+00   4.000000e+00  \n",
       "50%         6.000000e+00  1.000000e+00   9.000000e+00  \n",
       "75%         1.100000e+01  1.000000e+00   1.600000e+01  \n",
       "max         1.370000e+02  1.000000e+00   2.100000e+01  "
      ]
     },
     "execution_count": 32,
     "metadata": {},
     "output_type": "execute_result"
    }
   ],
   "source": [
    "dados.describe()"
   ]
  },
  {
   "cell_type": "code",
   "execution_count": 41,
   "id": "c2e7655f",
   "metadata": {},
   "outputs": [
    {
     "data": {
      "text/plain": [
       "order_id                  200000\n",
       "user_id                   105273\n",
       "order_number                 100\n",
       "order_dow                      7\n",
       "order_hour_of_day             24\n",
       "days_since_prior_order        31\n",
       "product_id                   134\n",
       "add_to_cart_order            137\n",
       "reordered                      2\n",
       "department_id                 21\n",
       "department                    21\n",
       "product_name                 134\n",
       "days_week                      7\n",
       "dtype: int64"
      ]
     },
     "execution_count": 41,
     "metadata": {},
     "output_type": "execute_result"
    }
   ],
   "source": [
    "#Números únicos para cada variável\n",
    "dados.nunique()"
   ]
  },
  {
   "cell_type": "code",
   "execution_count": 8,
   "id": "abae16a9",
   "metadata": {},
   "outputs": [
    {
     "data": {
      "text/plain": [
       "array([2, 3, 0, 1, 6, 5, 4], dtype=int64)"
      ]
     },
     "execution_count": 8,
     "metadata": {},
     "output_type": "execute_result"
    }
   ],
   "source": [
    "dados.order_dow.unique()"
   ]
  },
  {
   "cell_type": "code",
   "execution_count": 9,
   "id": "6a0defd3",
   "metadata": {},
   "outputs": [],
   "source": [
    "#Criação de uma nova coluna com os dias da semana em str\n",
    "def days(row, value):\n",
    "    return value[row]\n",
    "   \n",
    "map_dictionary ={0: \"Saturday\", 1: \"Sunday\", 2: \"Monday\", 3: \"Tuesday\", 4: \"Wednsday\", 5: \"Thuesday\", 6: \"Friday\"} \n",
    "   \n",
    "dados['days_week'] = dados['order_dow'].apply(days, args =(map_dictionary, )) "
   ]
  },
  {
   "cell_type": "code",
   "execution_count": 10,
   "id": "776b9f78",
   "metadata": {},
   "outputs": [
    {
     "data": {
      "text/html": [
       "<div>\n",
       "<style scoped>\n",
       "    .dataframe tbody tr th:only-of-type {\n",
       "        vertical-align: middle;\n",
       "    }\n",
       "\n",
       "    .dataframe tbody tr th {\n",
       "        vertical-align: top;\n",
       "    }\n",
       "\n",
       "    .dataframe thead th {\n",
       "        text-align: right;\n",
       "    }\n",
       "</style>\n",
       "<table border=\"1\" class=\"dataframe\">\n",
       "  <thead>\n",
       "    <tr style=\"text-align: right;\">\n",
       "      <th></th>\n",
       "      <th>order_id</th>\n",
       "      <th>user_id</th>\n",
       "      <th>order_number</th>\n",
       "      <th>order_dow</th>\n",
       "      <th>order_hour_of_day</th>\n",
       "      <th>days_since_prior_order</th>\n",
       "      <th>product_id</th>\n",
       "      <th>add_to_cart_order</th>\n",
       "      <th>reordered</th>\n",
       "      <th>department_id</th>\n",
       "      <th>department</th>\n",
       "      <th>product_name</th>\n",
       "      <th>days_week</th>\n",
       "    </tr>\n",
       "  </thead>\n",
       "  <tbody>\n",
       "    <tr>\n",
       "      <th>0</th>\n",
       "      <td>2425083</td>\n",
       "      <td>49125</td>\n",
       "      <td>1</td>\n",
       "      <td>2</td>\n",
       "      <td>18</td>\n",
       "      <td>8.0</td>\n",
       "      <td>17</td>\n",
       "      <td>1</td>\n",
       "      <td>0</td>\n",
       "      <td>13</td>\n",
       "      <td>pantry</td>\n",
       "      <td>baking ingredients</td>\n",
       "      <td>Monday</td>\n",
       "    </tr>\n",
       "    <tr>\n",
       "      <th>1</th>\n",
       "      <td>2425083</td>\n",
       "      <td>49125</td>\n",
       "      <td>1</td>\n",
       "      <td>2</td>\n",
       "      <td>18</td>\n",
       "      <td>8.0</td>\n",
       "      <td>91</td>\n",
       "      <td>2</td>\n",
       "      <td>0</td>\n",
       "      <td>16</td>\n",
       "      <td>dairy eggs</td>\n",
       "      <td>soy lactosefree</td>\n",
       "      <td>Monday</td>\n",
       "    </tr>\n",
       "    <tr>\n",
       "      <th>2</th>\n",
       "      <td>2425083</td>\n",
       "      <td>49125</td>\n",
       "      <td>1</td>\n",
       "      <td>2</td>\n",
       "      <td>18</td>\n",
       "      <td>8.0</td>\n",
       "      <td>36</td>\n",
       "      <td>3</td>\n",
       "      <td>0</td>\n",
       "      <td>16</td>\n",
       "      <td>dairy eggs</td>\n",
       "      <td>butter</td>\n",
       "      <td>Monday</td>\n",
       "    </tr>\n",
       "    <tr>\n",
       "      <th>3</th>\n",
       "      <td>2425083</td>\n",
       "      <td>49125</td>\n",
       "      <td>1</td>\n",
       "      <td>2</td>\n",
       "      <td>18</td>\n",
       "      <td>8.0</td>\n",
       "      <td>83</td>\n",
       "      <td>4</td>\n",
       "      <td>0</td>\n",
       "      <td>4</td>\n",
       "      <td>produce</td>\n",
       "      <td>fresh vegetables</td>\n",
       "      <td>Monday</td>\n",
       "    </tr>\n",
       "    <tr>\n",
       "      <th>4</th>\n",
       "      <td>2425083</td>\n",
       "      <td>49125</td>\n",
       "      <td>1</td>\n",
       "      <td>2</td>\n",
       "      <td>18</td>\n",
       "      <td>8.0</td>\n",
       "      <td>83</td>\n",
       "      <td>5</td>\n",
       "      <td>0</td>\n",
       "      <td>4</td>\n",
       "      <td>produce</td>\n",
       "      <td>fresh vegetables</td>\n",
       "      <td>Monday</td>\n",
       "    </tr>\n",
       "  </tbody>\n",
       "</table>\n",
       "</div>"
      ],
      "text/plain": [
       "   order_id  user_id  order_number  order_dow  order_hour_of_day  \\\n",
       "0   2425083    49125             1          2                 18   \n",
       "1   2425083    49125             1          2                 18   \n",
       "2   2425083    49125             1          2                 18   \n",
       "3   2425083    49125             1          2                 18   \n",
       "4   2425083    49125             1          2                 18   \n",
       "\n",
       "   days_since_prior_order  product_id  add_to_cart_order  reordered  \\\n",
       "0                     8.0          17                  1          0   \n",
       "1                     8.0          91                  2          0   \n",
       "2                     8.0          36                  3          0   \n",
       "3                     8.0          83                  4          0   \n",
       "4                     8.0          83                  5          0   \n",
       "\n",
       "   department_id  department        product_name days_week  \n",
       "0             13      pantry  baking ingredients    Monday  \n",
       "1             16  dairy eggs     soy lactosefree    Monday  \n",
       "2             16  dairy eggs              butter    Monday  \n",
       "3              4     produce    fresh vegetables    Monday  \n",
       "4              4     produce    fresh vegetables    Monday  "
      ]
     },
     "execution_count": 10,
     "metadata": {},
     "output_type": "execute_result"
    }
   ],
   "source": [
    "dados.head(5)"
   ]
  },
  {
   "cell_type": "code",
   "execution_count": 11,
   "id": "10f12705",
   "metadata": {},
   "outputs": [
    {
     "data": {
      "text/plain": [
       "array(['Monday', 'Tuesday', 'Saturday', 'Sunday', 'Friday', 'Thuesday',\n",
       "       'Wednsday'], dtype=object)"
      ]
     },
     "execution_count": 11,
     "metadata": {},
     "output_type": "execute_result"
    }
   ],
   "source": [
    "dados.days_week.unique()"
   ]
  },
  {
   "cell_type": "markdown",
   "id": "6d0ace27",
   "metadata": {},
   "source": [
    "## Data analysis"
   ]
  },
  {
   "cell_type": "code",
   "execution_count": 12,
   "id": "92ef19c5",
   "metadata": {},
   "outputs": [
    {
     "data": {
      "text/plain": [
       "Saturday    391831\n",
       "Sunday      349236\n",
       "Friday      280751\n",
       "Thuesday    262157\n",
       "Monday      261912\n",
       "Tuesday     238730\n",
       "Wednsday    234884\n",
       "Name: days_week, dtype: int64"
      ]
     },
     "execution_count": 12,
     "metadata": {},
     "output_type": "execute_result"
    }
   ],
   "source": [
    "days_count = dados.days_week.value_counts()\n",
    "days_count"
   ]
  },
  {
   "cell_type": "code",
   "execution_count": 13,
   "id": "06ee6943",
   "metadata": {},
   "outputs": [
    {
     "data": {
      "image/png": "[encoded data removed]",
      "text/plain": [
       "<Figure size 432x288 with 1 Axes>"
      ]
     },
     "metadata": {
      "needs_background": "light"
     },
     "output_type": "display_data"
    }
   ],
   "source": [
    "ax = sns.barplot(x=days_count.values, y=days_count.index, palette='coolwarm', data=dados)\n",
    "plt.xlabel('Orders', size=12)\n",
    "plt.ylabel('Days of the week', size=12)\n",
    "plt.title('Days week x orders', fontsize=15, pad=10)\n",
    "plt.rcParams['figure.figsize'] = (12,12)"
   ]
  },
  {
   "cell_type": "markdown",
   "id": "8188f0c4",
   "metadata": {},
   "source": [
    "**Saturday and sunday are the days with most of orders with almost 400.000.**"
   ]
  },
  {
   "cell_type": "code",
   "execution_count": 37,
   "id": "90f11ba3",
   "metadata": {},
   "outputs": [
    {
     "data": {
      "text/plain": [
       "count    2.019501e+06\n",
       "mean     1.707013e+06\n",
       "std      9.859832e+05\n",
       "min      1.000000e+01\n",
       "25%      8.526490e+05\n",
       "50%      1.705004e+06\n",
       "75%      2.559031e+06\n",
       "max      3.421080e+06\n",
       "Name: order_id, dtype: float64"
      ]
     },
     "execution_count": 37,
     "metadata": {},
     "output_type": "execute_result"
    }
   ],
   "source": [
    "dados['order_id'].describe()"
   ]
  },
  {
   "cell_type": "code",
   "execution_count": 55,
   "id": "9f712521",
   "metadata": {},
   "outputs": [
    {
     "data": {
      "image/png": "[encoded data removed]",
      "text/plain": [
       "<Figure size 432x288 with 1 Axes>"
      ]
     },
     "metadata": {
      "needs_background": "light"
     },
     "output_type": "display_data"
    }
   ],
   "source": [
    "%matplotlib inline\n",
    "plt.hist(dados['order_hour_of_day'], bins=24)\n",
    "plt.xlabel('Hour', size = 12)\n",
    "plt.ylabel('Amount', size = 12)\n",
    "plt.title('Time with most orders', fontsize=15, pad=10)\n",
    "plt.grid(True)\n",
    "plt.rcParams['figure.figsize'] = (10,10)\n",
    "\n",
    "plt.xticks(range(0, 23))\n",
    "\n",
    "plt.show()"
   ]
  },
  {
   "cell_type": "markdown",
   "id": "4f106a0d",
   "metadata": {},
   "source": [
    "**The most of ordres happen between 9:30 am and 3:30 pm.**"
   ]
  },
  {
   "cell_type": "code",
   "execution_count": 15,
   "id": "b127f5d0",
   "metadata": {},
   "outputs": [
    {
     "data": {
      "text/html": [
       "<div>\n",
       "<style scoped>\n",
       "    .dataframe tbody tr th:only-of-type {\n",
       "        vertical-align: middle;\n",
       "    }\n",
       "\n",
       "    .dataframe tbody tr th {\n",
       "        vertical-align: top;\n",
       "    }\n",
       "\n",
       "    .dataframe thead th {\n",
       "        text-align: right;\n",
       "    }\n",
       "</style>\n",
       "<table border=\"1\" class=\"dataframe\">\n",
       "  <thead>\n",
       "    <tr style=\"text-align: right;\">\n",
       "      <th></th>\n",
       "      <th>order_hour_of_day</th>\n",
       "      <th>days_week</th>\n",
       "      <th>count</th>\n",
       "    </tr>\n",
       "  </thead>\n",
       "  <tbody>\n",
       "    <tr>\n",
       "      <th>0</th>\n",
       "      <td>0</td>\n",
       "      <td>Friday</td>\n",
       "      <td>2126</td>\n",
       "    </tr>\n",
       "    <tr>\n",
       "      <th>1</th>\n",
       "      <td>0</td>\n",
       "      <td>Monday</td>\n",
       "      <td>1739</td>\n",
       "    </tr>\n",
       "    <tr>\n",
       "      <th>2</th>\n",
       "      <td>0</td>\n",
       "      <td>Saturday</td>\n",
       "      <td>2660</td>\n",
       "    </tr>\n",
       "    <tr>\n",
       "      <th>3</th>\n",
       "      <td>0</td>\n",
       "      <td>Sunday</td>\n",
       "      <td>2100</td>\n",
       "    </tr>\n",
       "    <tr>\n",
       "      <th>4</th>\n",
       "      <td>0</td>\n",
       "      <td>Thuesday</td>\n",
       "      <td>1977</td>\n",
       "    </tr>\n",
       "    <tr>\n",
       "      <th>...</th>\n",
       "      <td>...</td>\n",
       "      <td>...</td>\n",
       "      <td>...</td>\n",
       "    </tr>\n",
       "    <tr>\n",
       "      <th>163</th>\n",
       "      <td>23</td>\n",
       "      <td>Saturday</td>\n",
       "      <td>4356</td>\n",
       "    </tr>\n",
       "    <tr>\n",
       "      <th>164</th>\n",
       "      <td>23</td>\n",
       "      <td>Sunday</td>\n",
       "      <td>3273</td>\n",
       "    </tr>\n",
       "    <tr>\n",
       "      <th>165</th>\n",
       "      <td>23</td>\n",
       "      <td>Thuesday</td>\n",
       "      <td>3266</td>\n",
       "    </tr>\n",
       "    <tr>\n",
       "      <th>166</th>\n",
       "      <td>23</td>\n",
       "      <td>Tuesday</td>\n",
       "      <td>3125</td>\n",
       "    </tr>\n",
       "    <tr>\n",
       "      <th>167</th>\n",
       "      <td>23</td>\n",
       "      <td>Wednsday</td>\n",
       "      <td>3264</td>\n",
       "    </tr>\n",
       "  </tbody>\n",
       "</table>\n",
       "<p>168 rows × 3 columns</p>\n",
       "</div>"
      ],
      "text/plain": [
       "     order_hour_of_day days_week  count\n",
       "0                    0    Friday   2126\n",
       "1                    0    Monday   1739\n",
       "2                    0  Saturday   2660\n",
       "3                    0    Sunday   2100\n",
       "4                    0  Thuesday   1977\n",
       "..                 ...       ...    ...\n",
       "163                 23  Saturday   4356\n",
       "164                 23    Sunday   3273\n",
       "165                 23  Thuesday   3266\n",
       "166                 23   Tuesday   3125\n",
       "167                 23  Wednsday   3264\n",
       "\n",
       "[168 rows x 3 columns]"
      ]
     },
     "execution_count": 15,
     "metadata": {},
     "output_type": "execute_result"
    }
   ],
   "source": [
    "#Criating a new dataframe with count\n",
    "hour_day = pd.DataFrame({'count':dados.groupby(['order_hour_of_day', 'days_week']).size()}).reset_index()\n",
    "hour_day"
   ]
  },
  {
   "cell_type": "code",
   "execution_count": 57,
   "id": "0d6a0124",
   "metadata": {},
   "outputs": [
    {
     "data": {
      "image/png": "[encoded data removed]",
      "text/plain": [
       "<Figure size 432x288 with 1 Axes>"
      ]
     },
     "metadata": {
      "needs_background": "light"
     },
     "output_type": "display_data"
    }
   ],
   "source": [
    "%matplotlib inline\n",
    "sns.lineplot(data=hour_day, x=\"order_hour_of_day\", y=\"count\", hue = \"days_week\")\n",
    "plt.xticks(range(0, 23))\n",
    "plt.xlabel('Hour', size = 12)\n",
    "plt.ylabel('Amount', size = 12)\n",
    "plt.rcParams['figure.figsize'] = (16,16)\n",
    "plt.grid(True)\n",
    "plt.show()"
   ]
  },
  {
   "cell_type": "markdown",
   "id": "37e08155",
   "metadata": {},
   "source": [
    "**Here we can compare the peak sales times between weekdays and the range of sales during the week. We were able to observe that the pattern is repeated between weekdays and during the weekends, the sales peaks are different**"
   ]
  },
  {
   "cell_type": "code",
   "execution_count": 56,
   "id": "d6513db4",
   "metadata": {},
   "outputs": [
    {
     "data": {
      "text/plain": [
       "Text(0.5, 1.0, 'Department with most of orders')"
      ]
     },
     "execution_count": 56,
     "metadata": {},
     "output_type": "execute_result"
    },
    {
     "data": {
      "image/png": "[encoded data removed]",
      "text/plain": [
       "<Figure size 432x288 with 1 Axes>"
      ]
     },
     "metadata": {
      "needs_background": "light"
     },
     "output_type": "display_data"
    }
   ],
   "source": [
    "%matplotlib inline\n",
    "sns.countplot(x=dados['department'],order=dados['department'].value_counts().sort_values(ascending=False).index.to_list()[:5],\n",
    "             palette='coolwarm')\n",
    "plt.xlabel('Department', size = 12)\n",
    "plt.xticks(rotation=90)\n",
    "plt.title(\"Department with most of orders\")"
   ]
  },
  {
   "cell_type": "markdown",
   "id": "e517fa02",
   "metadata": {},
   "source": [
    "**The production departments, eggs, snacks, drinks and ice cream sits the most**"
   ]
  },
  {
   "cell_type": "code",
   "execution_count": 18,
   "id": "f1ada07a",
   "metadata": {},
   "outputs": [
    {
     "data": {
      "text/html": [
       "<div>\n",
       "<style scoped>\n",
       "    .dataframe tbody tr th:only-of-type {\n",
       "        vertical-align: middle;\n",
       "    }\n",
       "\n",
       "    .dataframe tbody tr th {\n",
       "        vertical-align: top;\n",
       "    }\n",
       "\n",
       "    .dataframe thead th {\n",
       "        text-align: right;\n",
       "    }\n",
       "</style>\n",
       "<table border=\"1\" class=\"dataframe\">\n",
       "  <thead>\n",
       "    <tr style=\"text-align: right;\">\n",
       "      <th></th>\n",
       "      <th>product_name</th>\n",
       "      <th>count</th>\n",
       "    </tr>\n",
       "  </thead>\n",
       "  <tbody>\n",
       "    <tr>\n",
       "      <th>0</th>\n",
       "      <td>air fresheners candles</td>\n",
       "      <td>1258</td>\n",
       "    </tr>\n",
       "    <tr>\n",
       "      <th>1</th>\n",
       "      <td>asian foods</td>\n",
       "      <td>10426</td>\n",
       "    </tr>\n",
       "    <tr>\n",
       "      <th>2</th>\n",
       "      <td>baby accessories</td>\n",
       "      <td>504</td>\n",
       "    </tr>\n",
       "    <tr>\n",
       "      <th>3</th>\n",
       "      <td>baby bath body care</td>\n",
       "      <td>515</td>\n",
       "    </tr>\n",
       "    <tr>\n",
       "      <th>4</th>\n",
       "      <td>baby food formula</td>\n",
       "      <td>23355</td>\n",
       "    </tr>\n",
       "    <tr>\n",
       "      <th>...</th>\n",
       "      <td>...</td>\n",
       "      <td>...</td>\n",
       "    </tr>\n",
       "    <tr>\n",
       "      <th>129</th>\n",
       "      <td>trash bags liners</td>\n",
       "      <td>2020</td>\n",
       "    </tr>\n",
       "    <tr>\n",
       "      <th>130</th>\n",
       "      <td>vitamins supplements</td>\n",
       "      <td>2912</td>\n",
       "    </tr>\n",
       "    <tr>\n",
       "      <th>131</th>\n",
       "      <td>water seltzer sparkling water</td>\n",
       "      <td>52564</td>\n",
       "    </tr>\n",
       "    <tr>\n",
       "      <th>132</th>\n",
       "      <td>white wines</td>\n",
       "      <td>1893</td>\n",
       "    </tr>\n",
       "    <tr>\n",
       "      <th>133</th>\n",
       "      <td>yogurt</td>\n",
       "      <td>90751</td>\n",
       "    </tr>\n",
       "  </tbody>\n",
       "</table>\n",
       "<p>134 rows × 2 columns</p>\n",
       "</div>"
      ],
      "text/plain": [
       "                      product_name  count\n",
       "0           air fresheners candles   1258\n",
       "1                      asian foods  10426\n",
       "2                 baby accessories    504\n",
       "3              baby bath body care    515\n",
       "4                baby food formula  23355\n",
       "..                             ...    ...\n",
       "129              trash bags liners   2020\n",
       "130           vitamins supplements   2912\n",
       "131  water seltzer sparkling water  52564\n",
       "132                    white wines   1893\n",
       "133                         yogurt  90751\n",
       "\n",
       "[134 rows x 2 columns]"
      ]
     },
     "execution_count": 18,
     "metadata": {},
     "output_type": "execute_result"
    }
   ],
   "source": [
    "#Criação de um novo dataframe para rankear os 5 produtos mais vendidos.\n",
    "product_name = pd.DataFrame({'count':dados.groupby(\"product_name\").size()}).reset_index()\n",
    "product_name"
   ]
  },
  {
   "cell_type": "code",
   "execution_count": 19,
   "id": "35e2f2c3",
   "metadata": {},
   "outputs": [
    {
     "data": {
      "text/html": [
       "<div>\n",
       "<style scoped>\n",
       "    .dataframe tbody tr th:only-of-type {\n",
       "        vertical-align: middle;\n",
       "    }\n",
       "\n",
       "    .dataframe tbody tr th {\n",
       "        vertical-align: top;\n",
       "    }\n",
       "\n",
       "    .dataframe thead th {\n",
       "        text-align: right;\n",
       "    }\n",
       "</style>\n",
       "<table border=\"1\" class=\"dataframe\">\n",
       "  <thead>\n",
       "    <tr style=\"text-align: right;\">\n",
       "      <th></th>\n",
       "      <th>product_name</th>\n",
       "      <th>count</th>\n",
       "    </tr>\n",
       "  </thead>\n",
       "  <tbody>\n",
       "    <tr>\n",
       "      <th>0</th>\n",
       "      <td>Other</td>\n",
       "      <td>1319002</td>\n",
       "    </tr>\n",
       "    <tr>\n",
       "      <th>1</th>\n",
       "      <td>fresh fruits</td>\n",
       "      <td>226039</td>\n",
       "    </tr>\n",
       "    <tr>\n",
       "      <th>2</th>\n",
       "      <td>fresh vegetables</td>\n",
       "      <td>212611</td>\n",
       "    </tr>\n",
       "    <tr>\n",
       "      <th>3</th>\n",
       "      <td>packaged cheese</td>\n",
       "      <td>61502</td>\n",
       "    </tr>\n",
       "    <tr>\n",
       "      <th>4</th>\n",
       "      <td>packaged vegetables fruits</td>\n",
       "      <td>109596</td>\n",
       "    </tr>\n",
       "    <tr>\n",
       "      <th>5</th>\n",
       "      <td>yogurt</td>\n",
       "      <td>90751</td>\n",
       "    </tr>\n",
       "  </tbody>\n",
       "</table>\n",
       "</div>"
      ],
      "text/plain": [
       "                 product_name    count\n",
       "0                       Other  1319002\n",
       "1                fresh fruits   226039\n",
       "2            fresh vegetables   212611\n",
       "3             packaged cheese    61502\n",
       "4  packaged vegetables fruits   109596\n",
       "5                      yogurt    90751"
      ]
     },
     "execution_count": 19,
     "metadata": {},
     "output_type": "execute_result"
    }
   ],
   "source": [
    "#Rankear os 5 mais\n",
    "#Separação da categoria 'outros'\n",
    "no_of_top_categories=5\n",
    "product_name_cropped=product_name.copy()\n",
    "\n",
    "product_name_cropped.loc[~(product_name_cropped.product_name.isin(product_name_cropped.nlargest(no_of_top_categories,'count')\n",
    "                                                                  ['product_name'].tolist())),'product_name']='Other'\n",
    "product_name_cropped=product_name_cropped.groupby(\"product_name\").sum().reset_index()\n",
    "product_name_cropped"
   ]
  },
  {
   "cell_type": "code",
   "execution_count": 58,
   "id": "adf0157f",
   "metadata": {},
   "outputs": [
    {
     "data": {
      "text/plain": [
       "Text(0.5, 1.0, 'Share (%) of Records among Different Products')"
      ]
     },
     "execution_count": 58,
     "metadata": {},
     "output_type": "execute_result"
    },
    {
     "data": {
      "image/png": "[encoded data removed]",
      "text/plain": [
       "<Figure size 432x288 with 1 Axes>"
      ]
     },
     "metadata": {},
     "output_type": "display_data"
    }
   ],
   "source": [
    "%matplotlib inline\n",
    "plt.pie(x=product_name_cropped[\"count\"],labels=product_name_cropped[\"product_name\"],autopct=\"%0.2f%%\")\n",
    "plt.title(\"Share (%) of Records among Different Products\")"
   ]
  },
  {
   "cell_type": "markdown",
   "id": "8fbed091",
   "metadata": {},
   "source": [
    "**The 5 products with the highest sales are: fresh fruits, fresh vegetables, packaged vegetables fruits, yogurt and packaged cheese**"
   ]
  },
  {
   "cell_type": "code",
   "execution_count": 21,
   "id": "95b09bf8",
   "metadata": {},
   "outputs": [
    {
     "data": {
      "text/html": [
       "<div>\n",
       "<style scoped>\n",
       "    .dataframe tbody tr th:only-of-type {\n",
       "        vertical-align: middle;\n",
       "    }\n",
       "\n",
       "    .dataframe tbody tr th {\n",
       "        vertical-align: top;\n",
       "    }\n",
       "\n",
       "    .dataframe thead th {\n",
       "        text-align: right;\n",
       "    }\n",
       "</style>\n",
       "<table border=\"1\" class=\"dataframe\">\n",
       "  <thead>\n",
       "    <tr style=\"text-align: right;\">\n",
       "      <th></th>\n",
       "      <th>0</th>\n",
       "    </tr>\n",
       "  </thead>\n",
       "  <tbody>\n",
       "    <tr>\n",
       "      <th>count</th>\n",
       "      <td>200000.000000</td>\n",
       "    </tr>\n",
       "    <tr>\n",
       "      <th>mean</th>\n",
       "      <td>10.097505</td>\n",
       "    </tr>\n",
       "    <tr>\n",
       "      <th>std</th>\n",
       "      <td>7.539068</td>\n",
       "    </tr>\n",
       "    <tr>\n",
       "      <th>min</th>\n",
       "      <td>1.000000</td>\n",
       "    </tr>\n",
       "    <tr>\n",
       "      <th>25%</th>\n",
       "      <td>5.000000</td>\n",
       "    </tr>\n",
       "    <tr>\n",
       "      <th>50%</th>\n",
       "      <td>8.000000</td>\n",
       "    </tr>\n",
       "    <tr>\n",
       "      <th>75%</th>\n",
       "      <td>14.000000</td>\n",
       "    </tr>\n",
       "    <tr>\n",
       "      <th>max</th>\n",
       "      <td>137.000000</td>\n",
       "    </tr>\n",
       "  </tbody>\n",
       "</table>\n",
       "</div>"
      ],
      "text/plain": [
       "                   0\n",
       "count  200000.000000\n",
       "mean       10.097505\n",
       "std         7.539068\n",
       "min         1.000000\n",
       "25%         5.000000\n",
       "50%         8.000000\n",
       "75%        14.000000\n",
       "max       137.000000"
      ]
     },
     "execution_count": 21,
     "metadata": {},
     "output_type": "execute_result"
    }
   ],
   "source": [
    "#Separação da variável que identifica cada pedido.\n",
    "pedidos = (pd.DataFrame(dados.groupby('order_id').size().values)).describe()\n",
    "pedidos"
   ]
  },
  {
   "cell_type": "markdown",
   "id": "400803a5",
   "metadata": {},
   "source": [
    "Temos uma média de 10 ítens por pedido e o máximo de 137"
   ]
  },
  {
   "cell_type": "code",
   "execution_count": 22,
   "id": "eaadc2c5",
   "metadata": {},
   "outputs": [
    {
     "name": "stdout",
     "output_type": "stream",
     "text": [
      "105273 unique users who placed orders\n"
     ]
    }
   ],
   "source": [
    "print(dados['user_id'].nunique(),('unique users who placed orders'))"
   ]
  },
  {
   "cell_type": "code",
   "execution_count": 23,
   "id": "ea8489b8",
   "metadata": {},
   "outputs": [
    {
     "name": "stdout",
     "output_type": "stream",
     "text": [
      "57803 customers did not buy again. Represents 54.9 % in total\n",
      "47470 customers did not buy again. Represents 45.1 % in total\n"
     ]
    }
   ],
   "source": [
    "x=dados.groupby('user_id').order_id.nunique()>1\n",
    "\n",
    "print(x.value_counts()[False],'customers did not buy again. Represents', \n",
    "      round(x.value_counts()[False] /dados['user_id'].nunique()*100,1), '% in total')\n",
    "\n",
    "print(x.value_counts()[True], 'customers did not buy again. Represents', \n",
    "      round(x.value_counts()[True] /dados['user_id'].nunique()*100,1), '% in total')"
   ]
  },
  {
   "cell_type": "code",
   "execution_count": 25,
   "id": "a72ae1b0",
   "metadata": {},
   "outputs": [
    {
     "name": "stdout",
     "output_type": "stream",
     "text": [
      "Most frequent user =  8703\n",
      "No Of Orders =  15\n"
     ]
    }
   ],
   "source": [
    "print(\n",
    "    'Most frequent user = ',\n",
    "    dados.groupby('user_id').order_id.nunique().nlargest(1).index[0])\n",
    "\n",
    "print(\n",
    "    'No Of Orders = ',\n",
    "    dados.groupby('user_id').order_id.nunique().nlargest(1).values[0])"
   ]
  },
  {
   "cell_type": "markdown",
   "id": "4dc0028f",
   "metadata": {},
   "source": [
    "## Conclusion"
   ]
  },
  {
   "cell_type": "markdown",
   "id": "3a5122d2",
   "metadata": {},
   "source": [
    "* Saturday and Sunday are the days with the highest sales;\n",
    "* In general, most dos requests occur between 9:30 am and 3:30 pm, but there is a variation on weekends, increasing the time range between 8 am and 5 pm;\n",
    "* The production departments, eggs, snacks, drinks and ice cream sits the most;\n",
    "* The 5 products with the highest sales are: fresh fruits, fresh vegetables, packaged vegetables fruits, yogurt and packaged cheese;\n",
    "* It has an average of 10 products per order with a maximum of 137 products in a single order;\n",
    "* 54.9% of users did not buy again (57,803);\n",
    "* 45.1% of users bought again (47,470);\n",
    "* The user with id 8703 was the most frequent with 15 requests."
   ]
  },
  {
   "cell_type": "code",
   "execution_count": null,
   "id": "78f6635c",
   "metadata": {},
   "outputs": [],
   "source": []
  }
 ],
 "metadata": {
  "kernelspec": {
   "display_name": "Python 3 (ipykernel)",
   "language": "python",
   "name": "python3"
  },
  "language_info": {
   "codemirror_mode": {
    "name": "ipython",
    "version": 3
   },
   "file_extension": ".py",
   "mimetype": "text/x-python",
   "name": "python",
   "nbconvert_exporter": "python",
   "pygments_lexer": "ipython3",
   "version": "3.9.12"
  }
 },
 "nbformat": 4,
 "nbformat_minor": 5
}
